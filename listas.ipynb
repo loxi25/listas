{
  "nbformat": 4,
  "nbformat_minor": 0,
  "metadata": {
    "colab": {
      "provenance": [],
      "authorship_tag": "ABX9TyPiSCcp9wvTLWfSxXEHNF4w",
      "include_colab_link": true
    },
    "kernelspec": {
      "name": "python3",
      "display_name": "Python 3"
    },
    "language_info": {
      "name": "python"
    }
  },
  "cells": [
    {
      "cell_type": "markdown",
      "metadata": {
        "id": "view-in-github",
        "colab_type": "text"
      },
      "source": [
        "<a href=\"https://colab.research.google.com/github/loxi25/listas/blob/main/listas.ipynb\" target=\"_parent\"><img src=\"https://colab.research.google.com/assets/colab-badge.svg\" alt=\"Open In Colab\"/></a>"
      ]
    },
    {
      "cell_type": "markdown",
      "source": [
        "# listas\n",
        "-una lista hace referencia a una conexion de datos que pueden ser numeros, cadenas o algun otro tipo\n",
        "\n",
        "- son colecciones ordenadas de datos lo que implica que pueden ser en el cual se encuentran sus elementos\n",
        "- el  primer elemento ocupa la posicion 0 el segundo la 1 y asi sucesivamente  \n",
        "- son mutables : una vez creada la lista, esta puede modificarse , se le pueden agregar o quitar elementos\n",
        "- en python estan representadas por el tipo ****list**** y para definirlas se utiliza la siguiente sinlaxis :\n",
        "`nombres_listas = [valor1, valor2....,valorn]`\n",
        "\n",
        "- los elementos pueden ser de cualquier tipo , incluso puede haber tipos  diferentes  en una misma lista .\n",
        "- tambien es posible crear usando el constructor `list()`"
      ],
      "metadata": {
        "id": "PelGpHV6C6Ng"
      }
    },
    {
      "cell_type": "code",
      "execution_count": 5,
      "metadata": {
        "colab": {
          "base_uri": "https://localhost:8080/"
        },
        "id": "T4gZA_RgCge2",
        "outputId": "aae7a263-ecb1-45c5-c937-fc639a9ed858"
      },
      "outputs": [
        {
          "output_type": "stream",
          "name": "stdout",
          "text": [
            "['lunes', 'martes', 'miercoles', 'jueves', 'viernes']\n",
            "['rojo', 'azul', 'amarillo']\n",
            "['lunes', 'martes', 'miercoles', 'jueves', 'viernes']\n",
            "['rojo', 'azul', 'amarillo']\n",
            "[205.3, 107.18, 25, 450, 310.89, 170.23, 340]\n",
            "<class 'list'>\n",
            "[0, 2, 4, 6, 8, 10, 12, 14, 16, 18, 20, 22, 24, 26, 28]\n",
            "[29, 27, 25, 23, 21, 19, 17, 15, 13, 11, 9, 7, 5, 3, 1]\n",
            "['n', 'e', 's', 't', 'o', 'r', ' ', 'j', 'e', 's', 'u', 's']\n",
            "['nestor', 'jesus', 'paez', 'sarmiento']\n",
            "[0, 2, 4, 6, 8, 10, 12, 14, 16, 18, 20, 22, 24, 26, 28]\n",
            "[29, 27, 25, 23, 21, 19, 17, 15, 13, 11, 9, 7, 5, 3, 1]\n",
            "['n', 'e', 's', 't', 'o', 'r', ' ', 'j', 'e', 's', 'u', 's']\n",
            "['nestor', 'jesus', 'paez', 'sarmiento']\n"
          ]
        }
      ],
      "source": [
        "# ejempo 1\n",
        "\n",
        "#=========================================================\n",
        "#usando los [] y dando valores para inicializar las listas\n",
        "#=========================================================\n",
        "\n",
        "dias_laborales = ['lunes','martes','miercoles','jueves','viernes']\n",
        "print(dias_laborales)\n",
        "\n",
        "colores_primarios = ['rojo','azul','amarillo']\n",
        "print(colores_primarios)\n",
        "\n",
        "precios =[205.30 , 107.18 , 25 , 450 , 310.89 , 170.23 , 340]\n",
        "# ejempo 1\n",
        "\n",
        "#=========================================================\n",
        "#usando los [] y dando valores para inicializar las listas\n",
        "#=========================================================\n",
        "\n",
        "dias_laborales = ['lunes','martes','miercoles','jueves','viernes']\n",
        "print(dias_laborales)\n",
        "\n",
        "colores_primarios = ['rojo','azul','amarillo']\n",
        "print(colores_primarios)\n",
        "\n",
        "precios =[205.30 , 107.18 , 25 , 450 , 310.89 , 170.23 , 340]\n",
        "print(precios)\n",
        "print(type(precios))\n",
        "mezcolanza=[12, 'octubre',1482 , True ]\n",
        "lista_vacia=[]\n",
        "\n",
        "\n",
        "#========================================\n",
        "#usando el constructor list()\n",
        "#========================================\n",
        "lista_vacia2 = list()\n",
        "lista_3 = list(range (0,30,2))\n",
        "print(lista_3)\n",
        "\n",
        "lista_4 = list(range (29,0,-2))\n",
        "print(lista_4)\n",
        "\n",
        "lista_5 = list('nestor jesus')\n",
        "print(lista_5)\n",
        "\n",
        "frase = 'nestor jesus paez sarmiento'\n",
        "lista_6 = frase.split()\n",
        "print(lista_6)\n",
        "\n",
        "#========================================\n",
        "#usando el constructor list()\n",
        "#========================================\n",
        "lista_vacia2 = list()\n",
        "lista_3 = list(range (0,30,2))\n",
        "print(lista_3)\n",
        "\n",
        "lista_4 = list(range (29,0,-2))\n",
        "print(lista_4)\n",
        "\n",
        "lista_5 = list('nestor jesus')\n",
        "print(lista_5)\n",
        "\n",
        "frase = 'nestor jesus paez sarmiento'\n",
        "lista_6 = frase.split()\n",
        "print(lista_6)"
      ]
    },
    {
      "cell_type": "markdown",
      "source": [
        "## operaciones\n",
        "\n",
        "### operador+\n",
        "\n",
        "- concatenar o pegar los elementos de una lista al final de otra\n",
        "\n",
        "### operador *\n",
        "\n",
        "- repetir la secuencia de elementos de la lista tantas veces como le indique el operador"
      ],
      "metadata": {
        "id": "VBheVKv2QwRJ"
      }
    },
    {
      "cell_type": "markdown",
      "source": [],
      "metadata": {
        "id": "Yn4Po4WtCiXu"
      }
    },
    {
      "cell_type": "code",
      "source": [
        "dias_laborales = ['lunes','martes','miercoles','jueves','viernes']\n",
        "\n",
        "\n",
        "colores_primarios = ['rojo','azul','amarillo']\n",
        "\n",
        "\n",
        "precios =[205.30 , 107.18 , 25 , 450 , 310.89 , 170.23 , 340]\n",
        "\n",
        "# acceso a los elementos de una lista\n",
        "\n",
        "print(dias_laborales[0])\n",
        "print(dias_laborales[-1])\n",
        "print(dias_laborales[-5])\n",
        "\n",
        "# operador +\n",
        "\n",
        "fin_semana = [\"sabado\",\"domingo\"]\n",
        "semana = dias_laborales + fin_semana\n",
        "print(semana)\n",
        "\n",
        "# operador *\n",
        "colores_repetidos=colores_primarios*2\n",
        "print(colores_repetidos)"
      ],
      "metadata": {
        "colab": {
          "base_uri": "https://localhost:8080/"
        },
        "id": "VaLHESzrRdH2",
        "outputId": "fe612f7c-6cb6-4da7-ba46-8ea80e5201a3"
      },
      "execution_count": 15,
      "outputs": [
        {
          "output_type": "stream",
          "name": "stdout",
          "text": [
            "lunes\n",
            "viernes\n",
            "lunes\n",
            "['lunes', 'martes', 'miercoles', 'jueves', 'viernes', 'sabado', 'domingo']\n",
            "['rojo', 'azul', 'amarillo', 'rojo', 'azul', 'amarillo']\n"
          ]
        }
      ]
    },
    {
      "cell_type": "markdown",
      "source": [
        "## funciones asociadas a las listas"
      ],
      "metadata": {
        "id": "VdnbX9OLUJEW"
      }
    },
    {
      "cell_type": "code",
      "source": [
        "dias_laborales = ['lunes','martes','miercoles','jueves','viernes']\n",
        "\n",
        "\n",
        "colores_primarios = ['rojo','azul','amarillo']\n",
        "\n",
        "\n",
        "precios =[205.30 , 107.18 , 25 , 450 , 310.89 , 170.23 , 340]\n",
        "\n",
        "pares = list(range(0, 32, 2))\n",
        "\n",
        "impares = list(range(29,0,-2))\n",
        "\n",
        "colores_repetidos=colores_primarios*3\n",
        "\n",
        "# append () agrega un elemento al final de la lista\n",
        "\n",
        "dias_laborales.append('sabado')\n",
        "print(dias_laborables)\n",
        "\n",
        "# len (): total elementos de la lista\n",
        "print('total de precios = ' , len(precios))\n",
        "\n",
        "# count ()cuenta el numero de veces que aparece un elemento en la lista\n",
        "print(f\"el lunes aparece {dias_laborables.count('lunes')} vez(veces)\")\n",
        "\n",
        "# insert () : agrega en la posicion indicada por el indice el nuevo valor desplazando los demas elementos hacia la derecha . si el indice es mayor al tamaño de la lista , lo agrega al final\n",
        "colores_primarios.insert(2,\"verde\")\n",
        "print(colores_primarios)\n",
        "\n",
        "# remove () : quita el elemto de la lista . si el elemento no esta lanza una excepcion\n",
        "dias_laborales.remove(\"sabado\")\n",
        "print(dias_laborales)\n",
        "\n",
        "# sort (): ordena la lista de menor a mayor\n",
        "precios.sort()\n",
        "print(precios)\n",
        "\n",
        "# reverse():\n",
        "\n",
        "#  pop():\n",
        "\n",
        "# clear():\n",
        "\n",
        "# del():"
      ],
      "metadata": {
        "colab": {
          "base_uri": "https://localhost:8080/"
        },
        "id": "CkTGKDbKUU_P",
        "outputId": "ea683af8-5f91-4637-ccf1-6aadbd96abd4"
      },
      "execution_count": 20,
      "outputs": [
        {
          "output_type": "stream",
          "name": "stdout",
          "text": [
            "['lunes', 'martes', 'miercoles', 'jueves', 'viernes', 'sabado']\n",
            "total de precios =  7\n",
            "el lunes aparece 1 vez(veces)\n",
            "['rojo', 'azul', 'verde', 'amarillo']\n",
            "['lunes', 'martes', 'miercoles', 'jueves', 'viernes']\n",
            "[25, 107.18, 170.23, 205.3, 310.89, 340, 450]\n"
          ]
        }
      ]
    },
    {
      "cell_type": "markdown",
      "source": [
        "# particion o division de listas (slicing o rebanadas)\n",
        "\n",
        "se pueden generar sus listas apartir de una lista por medio  de la particion(division) o slicing\n",
        "para obtener una sublista se usa la sintaxis `sublista=lista[inicio:fin:n]`"
      ],
      "metadata": {
        "id": "_xUtAclBf4wa"
      }
    },
    {
      "cell_type": "code",
      "source": [
        "# se crea una lista de numeros enteros\n",
        "lista_1 = (1,2,3,4,5,6)\n",
        "\n",
        "# sublisa con los elementos de las posiciones 0 ala2 inclusive\n",
        "sublista_1 = lista_1[0:3]\n",
        "print(sublista_1)\n",
        "\n",
        "#sublista con los elementos 0 ala 3 inclusive\n",
        "sublista_2 = lista_1[:4]\n",
        "print(sublista_2)\n",
        "\n",
        "#sublista con los elementos 3 a la 5 inclusive\n",
        "sublista_3 = lista_1[3:]\n",
        "print(sublista_3)\n",
        "\n",
        "# sublista con los elementos desde el inicio hasta el final , con saltos de a 2\n",
        "sublista_4 = lista_1[::2]\n",
        "print(sublista_4)"
      ],
      "metadata": {
        "colab": {
          "base_uri": "https://localhost:8080/"
        },
        "id": "l4MdvIb-g2j5",
        "outputId": "cdf28bdb-ec06-4f79-dd01-686489dc4a31"
      },
      "execution_count": 26,
      "outputs": [
        {
          "output_type": "stream",
          "name": "stdout",
          "text": [
            "(1, 2, 3)\n",
            "(1, 2, 3, 4)\n",
            "(4, 5, 6)\n",
            "(1, 3, 5)\n"
          ]
        }
      ]
    },
    {
      "cell_type": "code",
      "source": [],
      "metadata": {
        "id": "u4YNWwN8hOw2"
      },
      "execution_count": null,
      "outputs": []
    }
  ]
}